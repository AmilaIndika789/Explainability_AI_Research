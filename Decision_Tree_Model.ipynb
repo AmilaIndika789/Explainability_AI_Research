{
 "cells": [
  {
   "cell_type": "code",
   "execution_count": 60,
   "id": "5b0ebdf0",
   "metadata": {},
   "outputs": [],
   "source": [
    "# import the libraries\n",
    "import pandas as pd\n",
    "from sklearn import tree\n",
    "from sklearn.model_selection import train_test_split\n",
    "from sklearn import metrics\n",
    "import matplotlib.pyplot as plt\n",
    "from pandas_profiling import ProfileReport\n",
    "from sklearn.preprocessing import OneHotEncoder, OrdinalEncoder\n",
    "from sklearn.compose import make_column_transformer\n",
    "\n",
    "import warnings\n",
    "warnings.filterwarnings('ignore')"
   ]
  },
  {
   "cell_type": "code",
   "execution_count": 66,
   "id": "7946fac1",
   "metadata": {},
   "outputs": [],
   "source": [
    "# read the dataset\n",
    "df = pd.read_csv(\"./data/CEE_DATA.csv\",index_col=False)"
   ]
  },
  {
   "cell_type": "code",
   "execution_count": 67,
   "id": "dda270d3",
   "metadata": {},
   "outputs": [],
   "source": [
    "X = df[['Gender', 'Caste', 'coaching', 'time',\n",
    "       'Class_ten_education', 'twelve_education', 'medium',\n",
    "       'Class_X_Percentage', 'Class_XII_Percentage', 'Father_occupation',\n",
    "       'Mother_occupation']]\n",
    "Y = df[['Performance']]"
   ]
  },
  {
   "cell_type": "code",
   "execution_count": 68,
   "metadata": {},
   "outputs": [
    {
     "name": "stderr",
     "output_type": "stream",
     "text": [
      "Summarize dataset: 100%|██████████| 25/25 [00:05<00:00,  4.30it/s, Completed]\n",
      "Generate report structure: 100%|██████████| 1/1 [00:03<00:00,  3.38s/it]\n",
      "Render HTML: 100%|██████████| 1/1 [00:00<00:00,  2.13it/s]\n",
      "Export report to file: 100%|██████████| 1/1 [00:00<00:00, 207.14it/s]\n"
     ]
    }
   ],
   "source": [
    "# Descriptive report on the dataset\n",
    "profile = ProfileReport(df, title=\"Pandas Profiling Report\")\n",
    "profile.to_file(\"profiling_report.html\")"
   ]
  },
  {
   "cell_type": "markdown",
   "metadata": {},
   "source": [
    "## Train a model with one-hot encoding and label encoding"
   ]
  },
  {
   "cell_type": "code",
   "execution_count": 69,
   "metadata": {},
   "outputs": [],
   "source": [
    "ode1 = OrdinalEncoder(categories=[[\"'Average'\",\"'Good'\",\"'Vg'\", \"'Excellent'\"]])\n",
    "ode2 = OrdinalEncoder(categories=[[\"'female'\",\"'male'\"]])\n",
    "ohe = OneHotEncoder(sparse=False)"
   ]
  },
  {
   "cell_type": "code",
   "execution_count": 80,
   "metadata": {},
   "outputs": [
    {
     "data": {
      "text/plain": [
       "array([[1., 0., 0., ..., 3., 3., 1.],\n",
       "       [0., 1., 0., ..., 3., 3., 1.],\n",
       "       [0., 1., 0., ..., 3., 3., 1.],\n",
       "       ...,\n",
       "       [0., 0., 0., ..., 1., 2., 1.],\n",
       "       [0., 0., 0., ..., 1., 1., 1.],\n",
       "       [0., 0., 0., ..., 2., 1., 0.]])"
      ]
     },
     "execution_count": 80,
     "metadata": {},
     "output_type": "execute_result"
    }
   ],
   "source": [
    "column_transform = make_column_transformer(\n",
    "    (ohe,['Caste', 'coaching', 'time','Class_ten_education', 'twelve_education', 'medium', 'Father_occupation','Mother_occupation']),\n",
    "    (ode1,['Class_X_Percentage']),\n",
    "    (ode1,['Class_XII_Percentage']),\n",
    "    (ode2,['Gender'])\n",
    ")\n",
    "X_transformed = column_transform.fit_transform(X)"
   ]
  },
  {
   "cell_type": "markdown",
   "metadata": {},
   "source": [
    "## Train a model with one-hot encoding (get_dummies)"
   ]
  },
  {
   "cell_type": "code",
   "execution_count": 5,
   "id": "73f3ffaf",
   "metadata": {},
   "outputs": [],
   "source": [
    "X = pd.get_dummies(X)\n",
    "X_train, X_test, Y_train, Y_test = train_test_split(X, Y, test_size=0.3, random_state=1)\n",
    "print(\"Train Size Instances: \", X_train.shape[0])\n",
    "print(\"Test Size Instances:\", X_test.shape[0])\n",
    "clf = tree.DecisionTreeClassifier(criterion=\"entropy\", max_depth=3)\n",
    "clf.fit(X_train, Y_train)\n",
    "Y_pred = clf.predict(X_test)\n",
    "print(\"Accuracy: \", metrics.accuracy_score(Y_test, Y_pred))"
   ]
  },
  {
   "cell_type": "code",
   "execution_count": null,
   "id": "ee6d953b",
   "metadata": {},
   "outputs": [],
   "source": [
    "plt.figure(figsize=(20,12))\n",
    "tree.plot_tree(clf, fontsize=10, feature_names=list(X.columns), class_names=list(set(Y.values.reshape(-1,))))\n",
    "plt.show()"
   ]
  }
 ],
 "metadata": {
  "interpreter": {
   "hash": "878f638c0221e3ed571cdde73b54e3475bde5ecfcad9b387fc5f53bd43ed1e31"
  },
  "kernelspec": {
   "display_name": "Python 3.9.4 64-bit ('ml': conda)",
   "name": "python3"
  },
  "language_info": {
   "codemirror_mode": {
    "name": "ipython",
    "version": 3
   },
   "file_extension": ".py",
   "mimetype": "text/x-python",
   "name": "python",
   "nbconvert_exporter": "python",
   "pygments_lexer": "ipython3",
   "version": "3.9.4"
  }
 },
 "nbformat": 4,
 "nbformat_minor": 5
}
